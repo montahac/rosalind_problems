{
 "cells": [
  {
   "cell_type": "markdown",
   "metadata": {},
   "source": [
    "Problem\n",
    "The GC-content of a DNA string is given by the percentage of symbols in the string that are 'C' or 'G'. For example, the GC-content of \"AGCTATAG\" is 37.5%. Note that the reverse complement of any DNA string has the same GC-content.\n",
    "\n",
    "DNA strings must be labeled when they are consolidated into a database. A commonly used method of string labeling is called FASTA format. In this format, the string is introduced by a line that begins with '>', followed by some labeling information. Subsequent lines contain the string itself; the first line to begin with '>' indicates the label of the next string.\n",
    "\n",
    "In Rosalind's implementation, a string in FASTA format will be labeled by the ID \"Rosalind_xxxx\", where \"xxxx\" denotes a four-digit code between 0000 and 9999.\n",
    "\n",
    "Given: At most 10 DNA strings in FASTA format (of length at most 1 kbp each).\n",
    "\n",
    "Return: The ID of the string having the highest GC-content, followed by the GC-content of that string. Rosalind allows for a default error of 0.001 in all decimal answers unless otherwise stated; please see the note on absolute error below."
   ]
  },
  {
   "cell_type": "markdown",
   "metadata": {},
   "source": [
    "lets open the file submitted"
   ]
  },
  {
   "cell_type": "code",
   "execution_count": 20,
   "metadata": {},
   "outputs": [],
   "source": [
    "def readFile(filePath):\n",
    "    with open(filePath, 'r') as f:\n",
    "        return [line.strip() for line in f.readlines()]"
   ]
  },
  {
   "cell_type": "code",
   "execution_count": 21,
   "metadata": {},
   "outputs": [],
   "source": [
    "#initialising dictionary with labels \n",
    "def finding_highest_gc(fasta_input):\n",
    "    dna_sequence = {}\n",
    "\n",
    "    current_label = \"\"\n",
    "    current_dna = \"\"\n",
    "\n",
    "    #initialising variables\n",
    "    highest_gc_content = 0\n",
    "    highest_gc_label = \"\"    "
   ]
  },
  {
   "cell_type": "code",
   "execution_count": null,
   "metadata": {},
   "outputs": [],
   "source": [
    "#parsing the FASTA input\n",
    "\n",
    "for line in fasta_input:\n",
    "    if line.startswith('>'): #if line starts with '>':\n",
    "        if current_label != \"\": #if current_label is not empty:\n",
    "            dna_sequences[current_label] = ''.join(current_dna)\n",
    "        current_label = line [1:].strip()\n",
    "        current_dna = \"\" #current_dna = []\n",
    "\n",
    "    else:\n",
    "        current_dna += line.strip() #current_dna.append(line.strip())\n"
   ]
  },
  {
   "cell_type": "markdown",
   "metadata": {},
   "source": [
    "Add the last dna string read in this after the loop ends"
   ]
  },
  {
   "cell_type": "code",
   "execution_count": null,
   "metadata": {},
   "outputs": [],
   "source": [
    "if current_label != \"\": #if current_label is not empty:\n",
    "    dna_sequence[current_label] = ''.join(current_dna)"
   ]
  },
  {
   "cell_type": "markdown",
   "metadata": {},
   "source": [
    "Now computing a program to calculate the GC-content for each DNA string"
   ]
  },
  {
   "cell_type": "code",
   "execution_count": null,
   "metadata": {},
   "outputs": [],
   "source": [
    "for label, dna in dna_sequences.items():\n",
    "    gc_count = dna.count('G') + dna.count('C')\n",
    "    gc_content = (gc_count / len(dna)) * 100\n",
    "\n",
    "    if gc_content > highest_gc_content:\n",
    "        highest_gc_content = gc_content\n",
    "        highest_gc_label = label\n"
   ]
  },
  {
   "cell_type": "markdown",
   "metadata": {},
   "source": [
    "Now the whole program"
   ]
  },
  {
   "cell_type": "markdown",
   "metadata": {},
   "source": [
    "Initially I wrote the code where I had to add the fasta sequence manually but now I added a section where it reads and opens the file provided the file path is given."
   ]
  },
  {
   "cell_type": "code",
   "execution_count": 38,
   "metadata": {},
   "outputs": [
    {
     "name": "stdout",
     "output_type": "stream",
     "text": [
      "Rosalind_0455\n",
      "52.275379\n"
     ]
    }
   ],
   "source": [
    "def read_file(file_path):\n",
    "    with open(file_path, 'r') as f:\n",
    "        return [line.strip() for line in f.readlines()]\n",
    "\n",
    "def finding_highest_gc(fasta_input):\n",
    "    # Initialize dictionary to store DNA sequences with their labels\n",
    "    dna_sequences = {}\n",
    "    \n",
    "    current_label = \"\"\n",
    "    current_dna = []\n",
    "\n",
    "    # Initialize variables to track the highest GC-content\n",
    "    highest_gc_content = 0\n",
    "    highest_gc_label = \"\"\n",
    "\n",
    "    # Parse the FASTA input\n",
    "    for line in fasta_input:\n",
    "        if line.startswith('>'):  # If line starts with '>'\n",
    "            if current_label != \"\":  # If current_label is not empty\n",
    "                # Join current_dna list into a single string and store in the dictionary\n",
    "                dna_sequences[current_label] = ''.join(current_dna)\n",
    "            # Update current_label and reset current_dna list\n",
    "            current_label = line[1:].strip()\n",
    "            current_dna = []\n",
    "        else:\n",
    "            # Append line to current_dna list\n",
    "            current_dna.append(line.strip())\n",
    "\n",
    "    # Add the last read DNA string to the dictionary\n",
    "    if current_label != \"\":\n",
    "        dna_sequences[current_label] = ''.join(current_dna)\n",
    "\n",
    "    # Calculate GC-content for each DNA sequence\n",
    "    for label, dna in dna_sequences.items():\n",
    "        gc_count = dna.count('G') + dna.count('C')\n",
    "        gc_content = (gc_count / len(dna)) * 100\n",
    "\n",
    "        if gc_content > highest_gc_content:\n",
    "            highest_gc_content = gc_content\n",
    "            highest_gc_label = label\n",
    "\n",
    "    return (highest_gc_label.strip(), format(highest_gc_content, \".6f\"))\n",
    "\n",
    "if __name__ == \"__main__\":\n",
    "    file_path = \"/Users/montaha.chowdhury/Desktop/rosalind_gc (7).txt\"  # Replace with your file path\n",
    "    fasta_input = read_file(file_path)\n",
    "    result = finding_highest_gc(fasta_input)\n",
    "    print(result[0])\n",
    "    print(result[1])\n"
   ]
  }
 ],
 "metadata": {
  "kernelspec": {
   "display_name": "base",
   "language": "python",
   "name": "python3"
  },
  "language_info": {
   "codemirror_mode": {
    "name": "ipython",
    "version": 3
   },
   "file_extension": ".py",
   "mimetype": "text/x-python",
   "name": "python",
   "nbconvert_exporter": "python",
   "pygments_lexer": "ipython3",
   "version": "3.11.8"
  }
 },
 "nbformat": 4,
 "nbformat_minor": 2
}
