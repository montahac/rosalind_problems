{
 "cells": [
  {
   "cell_type": "markdown",
   "id": "96e573d2-42e8-4264-81d2-979fec74eb12",
   "metadata": {},
   "source": [
    "Counting DNA Nucleotides \n",
    "\n",
    "Problem\n",
    "A string is simply an ordered collection of symbols selected from some alphabet and formed into a word; the length of a string is the number of symbols that it contains.\n",
    "\n",
    "An example of a length 21 DNA string (whose alphabet contains the symbols 'A', 'C', 'G', and 'T') is \"ATGCTTCAGAAAGGTCTTACG.\"\n",
    "\n",
    "Given: A DNA string s\n",
    " of length at most 1000 nt.\n",
    "\n",
    "Return: Four integers (separated by spaces) counting the respective number of times that the symbols 'A', 'C', 'G', and 'T' occur in s."
   ]
  },
  {
   "cell_type": "code",
   "execution_count": 10,
   "metadata": {},
   "outputs": [
    {
     "name": "stdout",
     "output_type": "stream",
     "text": [
      "(20, 21, 12, 17)\n"
     ]
    }
   ],
   "source": [
    "# Defining a function to count nucleotides\n",
    "\n",
    "def count_nucleotides(dna_string):\n",
    "    # Initialize counters for each nucleotide\n",
    "    count_A = 0\n",
    "    count_C = 0\n",
    "    count_G = 0\n",
    "    count_T = 0\n",
    "\n",
    "     # Iterate through the DNA string and count each nucleotide\n",
    "    for nucleotide in dna_string:\n",
    "        if nucleotide == 'A':\n",
    "            count_A += 1\n",
    "        elif nucleotide == 'C':\n",
    "            count_C += 1\n",
    "        elif nucleotide == 'G':\n",
    "            count_G += 1\n",
    "        elif nucleotide == 'T':\n",
    "            count_T += 1\n",
    "\n",
    "    return count_A, count_T, count_C, count_G\n",
    "\n",
    "#call the function using sample data below\n",
    "\n",
    "dna_string = \"AGCTTTTCATTCTGACTGCAACGGGCAATATGTCTCTGTGTGGATTAAAAAAAGAGTGTCTGATAGCAGC\"\n",
    "counts = count_nucleotides(dna_string)\n",
    "print(counts)\n"
   ]
  },
  {
   "cell_type": "code",
   "execution_count": 8,
   "metadata": {},
   "outputs": [
    {
     "name": "stdout",
     "output_type": "stream",
     "text": [
      "None\n"
     ]
    }
   ],
   "source": []
  },
  {
   "cell_type": "code",
   "execution_count": null,
   "metadata": {},
   "outputs": [],
   "source": []
  }
 ],
 "metadata": {
  "kernelspec": {
   "display_name": "Python 3 (ipykernel)",
   "language": "python",
   "name": "python3"
  },
  "language_info": {
   "codemirror_mode": {
    "name": "ipython",
    "version": 3
   },
   "file_extension": ".py",
   "mimetype": "text/x-python",
   "name": "python",
   "nbconvert_exporter": "python",
   "pygments_lexer": "ipython3",
   "version": "3.11.8"
  }
 },
 "nbformat": 4,
 "nbformat_minor": 5
}
