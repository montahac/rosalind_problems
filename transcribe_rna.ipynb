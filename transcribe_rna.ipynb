{
 "cells": [
  {
   "cell_type": "markdown",
   "metadata": {},
   "source": [
    "Transcribing DNA into RNA \n",
    "\n",
    "Problem\n",
    "An RNA string is a string formed from the alphabet containing 'A', 'C', 'G', and 'U'.\n",
    "\n",
    "Given a DNA string t\n",
    " corresponding to a coding strand, its transcribed RNA string u\n",
    " is formed by replacing all occurrences of 'T' in t\n",
    " with 'U' in u.\n",
    "\n",
    "Given: A DNA string t\n",
    " having length at most 1000 nt.\n",
    "\n",
    "Return: The transcribed RNA string of t."
   ]
  },
  {
   "cell_type": "code",
   "execution_count": 1,
   "metadata": {},
   "outputs": [
    {
     "name": "stdout",
     "output_type": "stream",
     "text": [
      "GAUGGAACUUGACUACGUAAAUU\n"
     ]
    }
   ],
   "source": [
    "# Define the function to transcribing DNA to RNA\n",
    "\n",
    "def transcribe_dna_to_rna(dna_string):\n",
    "    # Replace all 'T' nucleotides with 'U'\n",
    "    rna_string = dna_string.replace('T', 'U')\n",
    "    return rna_string\n",
    "\n",
    "# calling using example\n",
    "dna_string = \"GATGGAACTTGACTACGTAAATT\"\n",
    "rna_string = transcribe_dna_to_rna(dna_string)\n",
    "print(rna_string)"
   ]
  }
 ],
 "metadata": {
  "kernelspec": {
   "display_name": "base",
   "language": "python",
   "name": "python3"
  },
  "language_info": {
   "codemirror_mode": {
    "name": "ipython",
    "version": 3
   },
   "file_extension": ".py",
   "mimetype": "text/x-python",
   "name": "python",
   "nbconvert_exporter": "python",
   "pygments_lexer": "ipython3",
   "version": "3.11.8"
  }
 },
 "nbformat": 4,
 "nbformat_minor": 2
}
